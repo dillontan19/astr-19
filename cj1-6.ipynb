{
 "cells": [
  {
   "cell_type": "code",
   "execution_count": 9,
   "id": "a1930ead-5a26-4965-9258-a1847b6d86a7",
   "metadata": {},
   "outputs": [],
   "source": [
    "import numpy as np\n",
    "\n",
    "def sin_func(x):\n",
    "    return np.sin(x)"
   ]
  },
  {
   "cell_type": "code",
   "execution_count": 10,
   "id": "f6e99653-051d-4179-9613-244ed6439fa9",
   "metadata": {},
   "outputs": [],
   "source": [
    "def cos_func(x):\n",
    "    return np.cos(x)"
   ]
  },
  {
   "cell_type": "code",
   "execution_count": 11,
   "id": "77857135-b24b-4368-aa37-b7f9cb43371b",
   "metadata": {},
   "outputs": [],
   "source": [
    "#in this notebook, we define a function for calculating the sine of an angle and another for calculating the cosine. \n",
    "\n",
    "#these values are tabulated from 0 to 2 with a thousand entries, and the first ten values are printed in a table."
   ]
  },
  {
   "cell_type": "code",
   "execution_count": 14,
   "id": "a47e5f7c-8dd2-407c-a9cc-67ad0f8d2588",
   "metadata": {},
   "outputs": [],
   "source": [
    "start = 0.0\n",
    "end = 2.0 * np.pi\n",
    "entries = 1000\n",
    "\n",
    "x_values = np.linspace(start, end, entries) #creates a linear array from the 'start' var to an 'end' var of x values evenly spaced by the entries variable\n",
    "sin_val = sin_func(x_values)\n",
    "cos_val = cos_func(x_values)"
   ]
  },
  {
   "cell_type": "code",
   "execution_count": 15,
   "id": "c8b3ed98-32aa-429d-bbf1-cbad367d8170",
   "metadata": {},
   "outputs": [
    {
     "ename": "SyntaxError",
     "evalue": "unterminated string literal (detected at line 2) (1979260196.py, line 2)",
     "output_type": "error",
     "traceback": [
      "\u001b[0;36m  Cell \u001b[0;32mIn[15], line 2\u001b[0;36m\u001b[0m\n\u001b[0;31m    print(f\"\u001b[0m\n\u001b[0m          ^\u001b[0m\n\u001b[0;31mSyntaxError\u001b[0m\u001b[0;31m:\u001b[0m unterminated string literal (detected at line 2)\n"
     ]
    }
   ],
   "source": [
    "for i in range(10):\n",
    "    print(f\"{x_values[i]} {sin_val[i]} {cos"
   ]
  },
  {
   "cell_type": "code",
   "execution_count": null,
   "id": "28f0052d-ff2e-436d-9707-2a7b36b6f348",
   "metadata": {},
   "outputs": [],
   "source": []
  }
 ],
 "metadata": {
  "kernelspec": {
   "display_name": "ASTR 19",
   "language": "python",
   "name": "astr19"
  },
  "language_info": {
   "codemirror_mode": {
    "name": "ipython",
    "version": 3
   },
   "file_extension": ".py",
   "mimetype": "text/x-python",
   "name": "python",
   "nbconvert_exporter": "python",
   "pygments_lexer": "ipython3",
   "version": "3.10.12"
  }
 },
 "nbformat": 4,
 "nbformat_minor": 5
}
